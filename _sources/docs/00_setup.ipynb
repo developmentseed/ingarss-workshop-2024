{
 "cells": [
  {
   "cell_type": "markdown",
   "id": "b7587958",
   "metadata": {},
   "source": [
    "# Setup for InGARSS 2024 workshop"
   ]
  },
  {
   "cell_type": "code",
   "execution_count": 1,
   "metadata": {},
   "outputs": [],
   "source": [
    "import os\n",
    "\n",
    "try:\n",
    "    import google.colab\n",
    "    IN_COLAB = True\n",
    "except:\n",
    "    IN_COLAB = False\n",
    "\n",
    "if IN_COLAB:\n",
    "    # Clone repository\n",
    "    !git clone https://github.com/developmentseed/ingarss-workshop-2024.git\n",
    "    %cd ingarss-workshop-2024\n",
    "    \n",
    "    # Create persistent storage in Drive for data and venv\n",
    "    from google.colab import drive\n",
    "    drive.mount('/content/drive')\n",
    "    !mkdir -p \"/content/drive/MyDrive/ingarss_workshop_2024\"\n",
    "    \n",
    "    # Unzip data to Drive\n",
    "    !unzip -q book/docs/data/india_crop_boundary.zip -d \"/content/drive/MyDrive/ingarss_workshop_2024\"\n",
    "    !unzip -q book/docs/data/karnataka_district.zip -d \"/content/drive/MyDrive/ingarss_workshop_2024\"\n",
    "    \n",
    "    print(\"✅ Setup complete! data is ready.\")"
   ]
  }
 ],
 "metadata": {
  "kernelspec": {
   "display_name": ".venv",
   "language": "python",
   "name": "python3"
  },
  "language_info": {
   "codemirror_mode": {
    "name": "ipython",
    "version": 3
   },
   "file_extension": ".py",
   "mimetype": "text/x-python",
   "name": "python",
   "nbconvert_exporter": "python",
   "pygments_lexer": "ipython3",
   "version": "3.11.10"
  }
 },
 "nbformat": 4,
 "nbformat_minor": 5
}
